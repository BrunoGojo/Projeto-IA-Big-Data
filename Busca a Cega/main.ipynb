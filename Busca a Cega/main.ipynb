{
 "cells": [
  {
   "cell_type": "code",
   "execution_count": 27,
   "metadata": {},
   "outputs": [
    {
     "name": "stdout",
     "output_type": "stream",
     "text": [
      "Tempo mínimo: 102.60 minutos\n",
      "Caminho: E7 → E5 → E4 → E3 → E9 → E11\n"
     ]
    }
   ],
   "source": [
    "import heapq\n",
    "\n",
    "def ucs(graph, start, goal):\n",
    "    # Fila de prioridade (custo acumulado, nó_atual, caminho)\n",
    "    pq = [(0, start, [start])]\n",
    "    visited = set()\n",
    "    \n",
    "    while pq:\n",
    "        cost, node, path = heapq.heappop(pq)  # Pega o nó com menor custo\n",
    "        \n",
    "        if node == goal:\n",
    "            return cost, path  # Retorna tempo mínimo e o caminho\n",
    "\n",
    "        if node not in visited:\n",
    "            visited.add(node)\n",
    "\n",
    "            for neighbor, distance in graph[node].items():\n",
    "                if neighbor not in visited:\n",
    "                    travel_time = (distance / 30) * 60  # Converte distância para minutos\n",
    "                    # Se não for o último nó, adiciona 4 min de baldeação\n",
    "                    additional_time = 4 if neighbor != goal else 0\n",
    "                    heapq.heappush(pq, (cost + travel_time + additional_time, neighbor, path + [neighbor]))\n",
    "\n",
    "    return None  # Se não há caminho\n",
    "\n",
    "# Grafo com distâncias reais entre estações\n",
    "graph = {\n",
    "    \"E1\": {\"E2\": 10},\n",
    "    \"E2\": {\"E1\": 10, \"E3\": 8.5, \"E9\": 10, \"E10\": 3.5},\n",
    "    \"E3\": {\"E2\": 8.5, \"E4\": 6.3, \"E9\": 9.4, \"E13\": 18.7},\n",
    "    \"E4\": {\"E3\": 6.3, \"E5\": 13, \"E8\": 15.3, \"E13\": 12.8},\n",
    "    \"E5\": {\"E4\": 13, \"E6\": 3, \"E7\": 2.4, \"E8\": 30},\n",
    "    \"E6\": {\"E5\": 3},\n",
    "    \"E7\": {\"E5\": 2.4},\n",
    "    \"E8\": {\"E4\": 15.3, \"E5\": 30, \"E9\": 9.6, \"E12\": 6.4},\n",
    "    \"E9\": {\"E2\": 10, \"E3\": 9.4, \"E8\": 9.6, \"E11\": 12.2},\n",
    "    \"E10\": {\"E2\": 3.5},\n",
    "    \"E11\": {\"E9\": 12.2},\n",
    "    \"E12\": {\"E8\": 6.4},\n",
    "    \"E13\": {\"E3\": 18.7, \"E4\": 12.8, \"E14\": 5.1},\n",
    "    \"E14\": {\"E13\": 5.1}\n",
    "}\n",
    "\n",
    "# Exemplo: calcular tempo e caminho de E7 a E11\n",
    "tempo_min, caminho = ucs(graph, \"E7\", \"E11\")\n",
    "print(f\"Tempo mínimo: {tempo_min:.2f} minutos\")\n",
    "print(f\"Caminho: {' → '.join(caminho)}\")\n"
   ]
  }
 ],
 "metadata": {
  "kernelspec": {
   "display_name": ".venv",
   "language": "python",
   "name": "python3"
  },
  "language_info": {
   "codemirror_mode": {
    "name": "ipython",
    "version": 3
   },
   "file_extension": ".py",
   "mimetype": "text/x-python",
   "name": "python",
   "nbconvert_exporter": "python",
   "pygments_lexer": "ipython3",
   "version": "3.13.2"
  }
 },
 "nbformat": 4,
 "nbformat_minor": 2
}
