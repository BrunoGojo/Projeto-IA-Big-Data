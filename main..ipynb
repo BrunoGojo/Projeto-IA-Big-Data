{
 "cells": [
  {
   "cell_type": "code",
   "execution_count": 35,
   "metadata": {},
   "outputs": [
    {
     "name": "stdout",
     "output_type": "stream",
     "text": [
      "Caminho encontrado: ['E2', 'E3', 'E13', 'E14'] com tempo total de 68.60 minutos e distância total de 32.30 km\n"
     ]
    }
   ],
   "source": [
    "import heapq\n",
    "\n",
    "def a_star_search(graph, start, goal):\n",
    "    open_set = []  # Fila de prioridade\n",
    "    heapq.heappush(open_set, (0, start))\n",
    "    came_from = {}  # Para reconstruir o caminho\n",
    "    g_score = {node: float('inf') for node in graph}\n",
    "    g_score[start] = 0\n",
    "    \n",
    "    while open_set:\n",
    "        _, current = heapq.heappop(open_set)\n",
    "        \n",
    "        if current == goal:\n",
    "            path = []\n",
    "            while current in came_from:\n",
    "                path.append(current)\n",
    "                current = came_from[current]\n",
    "            path.append(start)\n",
    "            return path[::-1], g_score[goal]\n",
    "        \n",
    "        for neighbor, distance in graph[current].items():\n",
    "            tentative_g_score = g_score[current] + distance\n",
    "            if tentative_g_score < g_score[neighbor]:\n",
    "                came_from[neighbor] = current\n",
    "                g_score[neighbor] = tentative_g_score\n",
    "                heapq.heappush(open_set, (tentative_g_score, neighbor))\n",
    "    \n",
    "    return None, float('inf')  # Caminho não encontrado\n",
    "\n",
    "def calculate_travel_time(path, graph, line_info):\n",
    "    total_time = 0  # Tempo em minutos\n",
    "    total_distance = 0\n",
    "    \n",
    "    for i in range(len(path) - 1):\n",
    "        station1, station2 = path[i], path[i + 1]\n",
    "        distance = graph[station1][station2]\n",
    "        total_distance += distance\n",
    "        total_time += (distance / 30) * 60  # Convertendo velocidade para minutos\n",
    "        \n",
    "        # Verifica troca de linha\n",
    "        if line_info.get(station1) != line_info.get(station2):\n",
    "            total_time += 4  # Adiciona tempo de baldeação\n",
    "    \n",
    "    return total_time, total_distance\n",
    "\n",
    "# Definição do grafo corrigido (baseado na Tabela 2)\n",
    "graph = {\n",
    "    \"E1\": {\"E2\": 10},\n",
    "    \"E2\": {\"E1\": 10, \"E3\": 8.5, \"E9\": 10, \"E10\": 3.5},\n",
    "    \"E3\": {\"E2\": 8.5, \"E4\": 6.3, \"E9\": 9.4, \"E13\": 18.7},\n",
    "    \"E4\": {\"E3\": 6.3, \"E5\": 13, \"E8\": 15.3, \"E13\": 12.8},\n",
    "    \"E5\": {\"E4\": 13, \"E6\": 3, \"E7\": 2.4, \"E8\": 30},\n",
    "    \"E6\": {\"E5\": 3},\n",
    "    \"E7\": {\"E5\": 2.4},\n",
    "    \"E8\": {\"E4\": 15.3, \"E5\": 30, \"E9\": 9.6, \"E12\": 6.4},\n",
    "    \"E9\": {\"E2\": 10, \"E3\": 9.4, \"E8\": 9.6, \"E11\": 12.2},\n",
    "    \"E10\": {\"E2\": 3.5},\n",
    "    \"E11\": {\"E9\": 12.2},\n",
    "    \"E12\": {\"E8\": 6.4},\n",
    "    \"E13\": {\"E3\": 18.7, \"E4\": 12.8, \"E14\": 5.1},\n",
    "    \"E14\": {\"E13\": 5.1}   \n",
    "}\n",
    "\n",
    "# Definição das linhas do metrô\n",
    "line_info = {\n",
    "    \"E1\": 1, \"E2\": 2, \"E3\": 2, \"E4\": 2, \"E5\": 2, \"E6\": 1, \"E7\": 1,\n",
    "    \"E8\": 2, \"E9\": 2, \"E10\": 1, \"E11\": 1, \"E12\": 1, \"E13\": 2, \"E14\": 1\n",
    "}\n",
    "\n",
    "# Teste do algoritmo\n",
    "start_node = \"E2\"\n",
    "goal_node = \"E14\"\n",
    "path, cost = a_star_search(graph, start_node, goal_node)\n",
    "total_time, total_distance = calculate_travel_time(path, graph, line_info)\n",
    "print(f\"Caminho encontrado: {path} com tempo total de {total_time:.2f} minutos e distância total de {total_distance:.2f} km\")"
   ]
  },
  {
   "cell_type": "markdown",
   "metadata": {},
   "source": []
  },
  {
   "cell_type": "markdown",
   "metadata": {},
   "source": []
  }
 ],
 "metadata": {
  "kernelspec": {
   "display_name": ".venv",
   "language": "python",
   "name": "python3"
  },
  "language_info": {
   "codemirror_mode": {
    "name": "ipython",
    "version": 3
   },
   "file_extension": ".py",
   "mimetype": "text/x-python",
   "name": "python",
   "nbconvert_exporter": "python",
   "pygments_lexer": "ipython3",
   "version": "3.13.2"
  }
 },
 "nbformat": 4,
 "nbformat_minor": 2
}
